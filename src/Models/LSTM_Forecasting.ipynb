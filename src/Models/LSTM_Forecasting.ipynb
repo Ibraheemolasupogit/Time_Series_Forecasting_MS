{
 "cells": [
  {
   "cell_type": "markdown",
   "id": "602f4f40-3865-4676-a843-e5a9f4b17903",
   "metadata": {},
   "source": [
    "Univariate Time Series Forecasting using a LSTM neural network model "
   ]
  },
  {
   "cell_type": "code",
   "execution_count": null,
   "id": "554789a9-431a-4382-bd71-4d1987354106",
   "metadata": {},
   "outputs": [],
   "source": [
    "# Import Libraries\n",
    "\n",
    "import numpy as np\n",
    "import pandas as pd\n",
    "from datetime import datetime \n",
    "from datetime import timedelta\n",
    "import matplotlib.pyplot as plt\n",
    "import seaborn as sns\n",
    "\n",
    "sns.set(font_scale=1.5)\n",
    "%config InlineBackend.figure_format = 'retina'\n",
    "%matplotlib inline\n",
    "from datetime import datetime\n",
    "from datetime import timedelta\n",
    "sns.set(style=\"ticks\", rc={\"lines.linewidth\": 1.5})"
   ]
  },
  {
   "cell_type": "code",
   "execution_count": null,
   "id": "5501eb3a-0fb0-443d-93c0-8c508cba1360",
   "metadata": {},
   "outputs": [],
   "source": [
    "## use pyspark to import a dataset if necessary\n",
    "\n",
    "import pyspark.sql.functions as sf\n",
    "import pyspark.sql.types as st\n",
    "from pyspark.sql.window import Window\n",
    "from pyspark.context import SparkContext\n",
    "#date_exp = sqlContext.sql(\"select * FROM ...\")\n",
    "\n"
   ]
  },
  {
   "cell_type": "code",
   "execution_count": null,
   "id": "9082de25-f98d-4a2f-a53a-ad95eb75d346",
   "metadata": {},
   "outputs": [],
   "source": [
    "'''date formatting\n",
    "date_exp[['payment_date']] = date_exp[['payment_date']].applymap(str).applymap(lambda s: \"{}-{}-{}\".format(s[4:6],s[6:], s[0:4]))\n",
    "\n",
    "date_exp['payment_date'] = pd.to_datetime(date_exp.payment_date)\n",
    "date_exp.set_index('payment_date', inplace=True,drop=True)\n",
    "\n",
    "date_exp = date_exp[(date_exp['faster_payments']>1)]\n",
    "\n",
    "check dataset visually\n",
    "\n",
    "plt.figure(figsize = (20,8))\n",
    "date_bk.groupby(['payment_date'])[['faster_payments']].mean().plot(lw=2.5, figsize=(12, 5));\n",
    "plt.show();\n",
    "\n",
    "'''\n"
   ]
  },
  {
   "cell_type": "code",
   "execution_count": null,
   "id": "f4c9453e-742e-4de8-a0b7-114b4fe8a1f1",
   "metadata": {},
   "outputs": [],
   "source": [
    "life = pd.read_csv('/Users/paul.carroll/Github/Forecasting/data/USlifeexpenctancyBirth.csv',index_col = 'TIME')\n",
    "life = life.iloc[0:,5:6]\n",
    "rename_map = {'Value':'Expectancy'}\n",
    "life.rename(columns=rename_map, inplace=True)\n",
    "life.tail()"
   ]
  },
  {
   "cell_type": "code",
   "execution_count": null,
   "id": "d4fbb8b9-d838-4304-ba98-34768ddb04c1",
   "metadata": {},
   "outputs": [],
   "source": [
    "#check your data\n",
    "plt.figure(figsize = (20,8))\n",
    "life.plot();"
   ]
  },
  {
   "cell_type": "code",
   "execution_count": null,
   "id": "6f48765d-a8e5-4b85-975f-54de12831080",
   "metadata": {},
   "outputs": [],
   "source": [
    "\n",
    "import tensorflow  as tf\n",
    "\n",
    "from keras.models import Sequential\n",
    "from keras.layers import LSTM\n",
    "from keras.layers import Dense, Dropout\n",
    "from keras.layers import Bidirectional\n",
    "from keras.layers import RepeatVector\n",
    "from keras.layers import TimeDistributed\n",
    "\n"
   ]
  },
  {
   "cell_type": "code",
   "execution_count": null,
   "id": "f01e2002-68f0-4189-ad28-52151314315f",
   "metadata": {},
   "outputs": [],
   "source": [
    "def split_data(data, test_split):\n",
    "        l = len(data)\n",
    "        t_idx = round(l*(1-test_split))\n",
    "        train, test = data[ : t_idx], data[t_idx : ]\n",
    "        print(f'train: {len(train)} , test: {len(test)}')\n",
    "        return train, test"
   ]
  },
  {
   "cell_type": "code",
   "execution_count": null,
   "id": "a078b614-313d-47ee-a04b-4b14dc479ed7",
   "metadata": {},
   "outputs": [],
   "source": [
    "#sequence splitter function\n",
    "\n",
    "def split_sequence(sequence, n_steps_in, n_steps_out):\n",
    "    X, y = list(), list()\n",
    "    for i in range(len(sequence)):\n",
    "        end_ix = i + n_steps_in\n",
    "        out_end_ix = end_ix + n_steps_out\n",
    "        if out_end_ix > len(sequence):\n",
    "            break\n",
    "\n",
    "        seq_x, seq_y = sequence[i:end_ix], sequence[end_ix:out_end_ix]\n",
    "        X.append(seq_x)\n",
    "        y.append(seq_y)\n",
    "    return array(X), array(y)"
   ]
  },
  {
   "cell_type": "code",
   "execution_count": null,
   "id": "9fdb4e90-1878-4987-b8b9-063fe73619b6",
   "metadata": {},
   "outputs": [],
   "source": [
    "# model and variables to run the model \n",
    "lstm_seq = np.array(life.Expectancy)\n",
    "# define number of training steps\n",
    "n = 2\n",
    "m = len(lstm_seq)\n",
    "n_steps_in = m-n\n",
    "#note that this number is also where x_input length gets defined\n",
    "\n",
    "# number of forecast steps\n",
    "n_steps_out = n\n",
    "\n",
    "# univariate series being used here as dataset for the prediction\n",
    "n_features = 1\n",
    "\n",
    "\n",
    "tf.keras.backend.clear_session()\n",
    "\n",
    "X, y = split_sequence(lstm_seq, n_steps_in, n_steps_out)\n",
    "X = X.reshape((X.shape[0], X.shape[1], n_features))\n",
    "\n",
    "\n",
    "model = Sequential()\n",
    "model.add(LSTM(100, activation='relu', input_shape=(n_steps_in, n_features)))\n",
    "#model.add(RepeatVector(n_steps_out))\n",
    "#model.add(LSTM(100, activation='relu', return_sequences=True))\n",
    "#model.add(TimeDistributed(Dense(1)))\n",
    "model.add(Dense(n_steps_out))\n",
    "model.compile(optimizer='adam', loss='mse')\n",
    "\n",
    "#fit the model, define number of epochs\n",
    "model.fit(X, y, epochs=100, verbose=0)\n",
    "\n",
    "# here used len(lstm_seq) -3, to compare the last 3 of lstm_seq against the predictions\n",
    "x_input = array(lstm_seq[0:m-n])\n",
    "x_input = x_input.reshape((1, n_steps_in, n_features))\n",
    "yhat = model.predict(x_input, verbose=0)\n",
    "print(yhat)\n",
    "\n"
   ]
  },
  {
   "cell_type": "code",
   "execution_count": null,
   "id": "a42e4a19-39b3-44bf-9613-f8b87cc8ed29",
   "metadata": {},
   "outputs": [],
   "source": [
    "# model function \n",
    "# variable setting\n",
    "m = len(lstm_seq)\n",
    "n = 1\n",
    "n_steps_in = m-n\n",
    "n_steps_out = n\n",
    "n_features = 1\n",
    "\n",
    "def lstm_data(x):\n",
    "\n",
    "    lstm_seq = np.array(x)\n",
    "    #n_steps_in, n_steps_out = m-n, n\n",
    "    X, y = split_sequence(lstm_seq, n_steps_in, n_steps_out)\n",
    "    X = X.reshape((X.shape[0], X.shape[1], n_features))\n",
    "    #return X,y\n",
    "\n",
    "#def fit_lstm(data):\n",
    "    tf.keras.backend.clear_session()\n",
    "    model = Sequential()\n",
    "    model.add(LSTM(100, activation='relu', input_shape=(n_steps_in, n_features)))\n",
    "    model.add(RepeatVector(n_steps_out))\n",
    "    model.add(LSTM(100, activation='relu', return_sequences=True))\n",
    "    model.add(TimeDistributed(Dense(1)))\n",
    "    model.add(Dense(n_steps_out))\n",
    "    model.compile(optimizer='adam', loss='mse')\n",
    "    model.fit(X, y, epochs=1000, verbose=0)\n",
    "\n",
    "    x_input = array(lstm_seq[0:m-n])\n",
    "    x_input = x_input.reshape((1, n_steps_in, n_features))\n",
    "    yhat = model.predict(x_input, verbose=0)\n",
    "    #yhat = int(yhat)\n",
    "    return(yhat)\n",
    "              "
   ]
  },
  {
   "cell_type": "code",
   "execution_count": null,
   "id": "b52d01c1-fd27-4fbc-b056-98f970431f07",
   "metadata": {},
   "outputs": [],
   "source": [
    "lstm_data(life.Expectancy)"
   ]
  },
  {
   "cell_type": "code",
   "execution_count": null,
   "id": "56285199-1fc0-433a-a313-441504be5ab3",
   "metadata": {},
   "outputs": [],
   "source": [
    "# function to run the model repeatedly, and to average the results. \n",
    "\n",
    "def run(data, runs):\n",
    "    #repeats is how many times you want the model to run\n",
    "    #n is equal to the last value in the dataset that will be in the model, ie n+1 is the number to predict.\n",
    "    #model will use 0-n.\n",
    "    #m= n-2\n",
    "    #n_steps_in, n_steps_out = m-n, 1\n",
    "    #n_features = 1\n",
    "    #m this sets the lower boundary for the data selection into the model. Must be at least 1 less than n.\n",
    "    #datax= prepare_data(data)\n",
    "    results = list()\n",
    "    for r in range(runs):\n",
    "        result = lstm_data(data)\n",
    "        #print('>#%d: %.3f' % (r+1, result))\n",
    "        results.append(result)\n",
    "        msg = np.mean(results)\n",
    "    return(msg)\n",
    " #   summarize_results(results)\n",
    "    #return(np.mean(results))\n",
    "\n"
   ]
  },
  {
   "cell_type": "code",
   "execution_count": null,
   "id": "d2e009e3-b8ea-4ff6-a5fe-8a5f0a735ded",
   "metadata": {},
   "outputs": [],
   "source": [
    "run(life.Expectancy,3)"
   ]
  },
  {
   "cell_type": "code",
   "execution_count": null,
   "id": "16818955-fd9a-4d42-9e50-017e670dd727",
   "metadata": {},
   "outputs": [],
   "source": [
    "# mean comparison\n",
    "import statistics\n",
    "statistics.mean(life.Expectancy)"
   ]
  },
  {
   "cell_type": "code",
   "execution_count": null,
   "id": "23a918c4-024d-4d9b-8c39-afd9afd13d67",
   "metadata": {},
   "outputs": [],
   "source": [
    "# function for sliding window mean\n",
    "def most_recent_mean(df, x):\n",
    "    a = len(df)\n",
    "    b = a-x\n",
    "    y = sum(df.iloc[b:a])\n",
    "    return y/x"
   ]
  },
  {
   "cell_type": "code",
   "execution_count": null,
   "id": "b65e9214-1750-40c7-a3f4-37c9ffd12e95",
   "metadata": {},
   "outputs": [],
   "source": [
    "most_recent_mean(life.Expectancy, 5)"
   ]
  },
  {
   "cell_type": "code",
   "execution_count": null,
   "id": "89d203ce-1c5d-4005-a2bd-2d171b1f5ecc",
   "metadata": {},
   "outputs": [],
   "source": []
  },
  {
   "cell_type": "code",
   "execution_count": null,
   "id": "00b6abf3-e142-4a06-828e-4227b296d726",
   "metadata": {},
   "outputs": [],
   "source": []
  }
 ],
 "metadata": {
  "kernelspec": {
   "display_name": "Python 3 (ipykernel)",
   "language": "python",
   "name": "python3"
  },
  "language_info": {
   "codemirror_mode": {
    "name": "ipython",
    "version": 3
   },
   "file_extension": ".py",
   "mimetype": "text/x-python",
   "name": "python",
   "nbconvert_exporter": "python",
   "pygments_lexer": "ipython3",
   "version": "3.10.9"
  }
 },
 "nbformat": 4,
 "nbformat_minor": 5
}
