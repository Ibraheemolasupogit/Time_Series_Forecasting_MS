{
 "cells": [
  {
   "cell_type": "code",
   "execution_count": 1,
   "id": "dd0198f8",
   "metadata": {},
   "outputs": [],
   "source": [
    "import os, sys, importlib"
   ]
  },
  {
   "cell_type": "code",
   "execution_count": 2,
   "id": "6f4247b7-3804-4fce-831d-be8c9f35bc59",
   "metadata": {},
   "outputs": [],
   "source": [
    "sys.path.append(\"../Functions\")"
   ]
  },
  {
   "cell_type": "code",
   "execution_count": 3,
   "id": "e1abc0e3-12d2-4c44-a05c-aafd1720bb0d",
   "metadata": {},
   "outputs": [],
   "source": [
    "from preprocessing_functions import timeseries_type"
   ]
  },
  {
   "cell_type": "code",
   "execution_count": 4,
   "id": "a6480689-90f9-4756-a035-6ecd905a5239",
   "metadata": {},
   "outputs": [],
   "source": [
    "import numpy as np\n",
    "import math\n",
    "import pandas as pd\n",
    "from IPython.display import clear_output"
   ]
  },
  {
   "cell_type": "code",
   "execution_count": 5,
   "id": "39f5ddeb",
   "metadata": {},
   "outputs": [],
   "source": [
    "def rolling_forecast_ensemble(model_outputs):\n",
    "\n",
    "    \"\"\"\n",
    "    Takes a time series and computes forecasts on a rolling basis.\n",
    "\n",
    "    Forecasts (and fitted values) are based on the average of the forecasts made by each of the models passed to this function.\n",
    "\n",
    "    INPUTS:\n",
    "    ----------------\n",
    "        model_outputs (list): A list of the raw outputs for any number of models.\n",
    "\n",
    "    RETURNS:\n",
    "    ----------------\n",
    "        (tuple): A tuple of the form (a, b, c)\n",
    "\n",
    "        a (pandas.core.frame.DataFrame) : The original time series now with an additional column of fitted values\n",
    "\n",
    "        b (pandas.core.frame.DataFrame) : A timeseries containing the final set of forecasts made\n",
    "\n",
    "        c (string) : A string which contains the title of the model. This includes some details of the set parameters\n",
    "\n",
    "    \"\"\"\n",
    "\n",
    "    # get a date and series column\n",
    "    ts_dummy = model_outputs[0][0].iloc[:, 0:2].copy()\n",
    "\n",
    "    # make a prediction column where the 'ensemble' predictions will go.\n",
    "    date_col = ts_dummy.columns.values.tolist()[0]\n",
    "    prediction_column = str(len(model_outputs)) + \"_Model_Ensemble\"\n",
    "    ts_dummy[prediction_column] = 0\n",
    "\n",
    "    # deduce series type\n",
    "    seasonal_lag, offset, freq = timeseries_type(ts_dummy)\n",
    "\n",
    "    # deduce nsteps based on how far out the models are forecasting\n",
    "    nsteps = len(model_outputs[0][1])\n",
    "\n",
    "    forecast_column = prediction_column + \"_forecasts\"\n",
    "    first_forecast_date = ts_dummy[date_col].iloc[-1] + offset\n",
    "\n",
    "    forecasts = pd.DataFrame(\n",
    "        {\n",
    "            \"End date\": pd.date_range(\n",
    "                start=first_forecast_date, periods=nsteps, freq=freq\n",
    "            ),\n",
    "            forecast_column: np.zeros(nsteps),\n",
    "        }\n",
    "    )\n",
    "    print(forecasts)\n",
    "    loop = 0\n",
    "    loops_required = len(model_outputs)\n",
    "\n",
    "    # add up all the outputs/forecasts\n",
    "    for model in model_outputs:\n",
    "        ts_dummy[prediction_column] = ts_dummy[prediction_column] + model[0].iloc[:, 2]\n",
    "        forecasts[forecast_column] = forecasts[forecast_column] + +model[1].iloc[:, 1]\n",
    "\n",
    "        loop = loop + 1\n",
    "        clear_output()\n",
    "        print(str(round(100 * loop / loops_required)) + \" % done\")\n",
    "\n",
    "    # average all the outputs/forecasts\n",
    "    ts_dummy[prediction_column] = ts_dummy[prediction_column] / len(model_outputs)\n",
    "    forecasts[forecast_column] = forecasts[forecast_column] / len(model_outputs)\n",
    "\n",
    "    return (ts_dummy, forecasts, prediction_column)"
   ]
  },
  {
   "cell_type": "code",
   "execution_count": 1,
   "id": "13aa005e",
   "metadata": {},
   "outputs": [
    {
     "name": "stdout",
     "output_type": "stream",
     "text": [
      "[NbConvertApp] Converting notebook ensemble.ipynb to script\n",
      "[NbConvertApp] Writing 2230 bytes to ensemble.py\n"
     ]
    }
   ],
   "source": [
    "# write all the above code to a py file but not this particular cell of code.\n",
    "\n",
    "!jupyter nbconvert --to script ensemble.ipynb\n",
    "with open(\"ensemble.py\", \"r\") as f:\n",
    "    lines = f.readlines()\n",
    "with open(\"ensemble.py\", \"w\") as f:\n",
    "    for line in lines:\n",
    "        if \"nbconvert --to script\" in line:\n",
    "            break\n",
    "        else:\n",
    "            f.write(line)"
   ]
  },
  {
   "cell_type": "code",
   "execution_count": null,
   "id": "c8113755",
   "metadata": {},
   "outputs": [],
   "source": []
  }
 ],
 "metadata": {
  "kernelspec": {
   "display_name": "venv",
   "language": "python",
   "name": "python3"
  },
  "language_info": {
   "codemirror_mode": {
    "name": "ipython",
    "version": 3
   },
   "file_extension": ".py",
   "mimetype": "text/x-python",
   "name": "python",
   "nbconvert_exporter": "python",
   "pygments_lexer": "ipython3",
   "version": "3.8.13"
  },
  "vscode": {
   "interpreter": {
    "hash": "cbc6a8acedfa452443f0fd71f928bb1b4d2f80aea42ae722665739340817674a"
   }
  }
 },
 "nbformat": 4,
 "nbformat_minor": 5
}
