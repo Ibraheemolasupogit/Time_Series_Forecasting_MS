{
 "cells": [
  {
   "cell_type": "code",
   "execution_count": 4,
   "id": "4a8be985",
   "metadata": {},
   "outputs": [],
   "source": [
    "import os, sys, importlib"
   ]
  },
  {
   "cell_type": "code",
   "execution_count": null,
   "id": "9737aab8-d950-4d6b-ad7b-f20fd7cb4f19",
   "metadata": {},
   "outputs": [],
   "source": [
    "sys.path.append(\"../Functions\")"
   ]
  },
  {
   "cell_type": "code",
   "execution_count": null,
   "id": "9975000d-f90d-4b45-a75b-745b60685773",
   "metadata": {},
   "outputs": [],
   "source": [
    "from preprocessing_functions import timeseries_type"
   ]
  },
  {
   "cell_type": "code",
   "execution_count": null,
   "id": "31603867-c2bf-4ea9-9582-405b8e748960",
   "metadata": {},
   "outputs": [],
   "source": [
    "import numpy as np\n",
    "import math\n",
    "import pandas as pd\n",
    "from IPython.display import clear_output"
   ]
  },
  {
   "cell_type": "code",
   "execution_count": 5,
   "id": "ec0517da",
   "metadata": {},
   "outputs": [],
   "source": [
    "def rolling_forecast_holt_winters(\n",
    "    time_series, window_end_date, model_params, nsteps, window_length=None\n",
    "):\n",
    "\n",
    "    \"\"\"\n",
    "    Takes a time series and computes forecasts on a rolling basis.\n",
    "\n",
    "    Forecasts are based on a holt winters model.\n",
    "\n",
    "    INPUTS:\n",
    "    ----------------\n",
    "        time_series (pandas.core.frame.DataFrame) : A time series\n",
    "\n",
    "        window_end_date (string) : A date string of the form 'yyyy-mm-dd'. This gives the model the latets piece of data it may\n",
    "        use to make a forecast.\n",
    "\n",
    "        model_params (list) : A list of the holt winters parameters [trend, seasonal, seasonal_periods]. Trend can be one of\n",
    "        {“add”, “mul”, “additive”, “multiplicative”, None}. Seasonal can be one of {“add”, “mul”, “additive”, “multiplicative”, None}.\n",
    "        Seasonal_periods is the interval length required to capture seasonality and is an integer.\n",
    "\n",
    "        nsteps (int) : The number of steps out to forecast\n",
    "\n",
    "        window_length (int) : If specified, will make sure the rolling window the forecasts are based on is of this length. If\n",
    "        not specified will just start from the first date in the time series\n",
    "\n",
    "    RETURNS:\n",
    "    ----------------\n",
    "        (tuple): A tuple of the form (a, b, c)\n",
    "\n",
    "        a (pandas.core.frame.DataFrame) : The original time series now with an additional column of fitted values\n",
    "\n",
    "        b (pandas.core.frame.DataFrame) : A timeseries containing the final set of forecasts made\n",
    "\n",
    "        c (string) : A string which contains the title of the model. This includes some details of the set parameters\n",
    "\n",
    "    \"\"\"\n",
    "\n",
    "    ts_dummy = time_series.copy()\n",
    "    date_col = ts_dummy.columns.values.tolist()[0]\n",
    "    series_col = ts_dummy.columns.values.tolist()[1]\n",
    "    final_index = ts_dummy[ts_dummy[date_col] == window_end_date].index[0]\n",
    "    final_posn = final_index + 1\n",
    "\n",
    "    # deduce series type\n",
    "    seasonal_lag, offset, freq = timeseries_type(time_series)\n",
    "\n",
    "    if window_length == None:\n",
    "        start_index = 0\n",
    "        length_text = \"\"\n",
    "        start_index_increment = 0\n",
    "    else:\n",
    "        start_index = final_index - (window_length - 1)\n",
    "        length_text = \"_wl_\" + str(window_length)\n",
    "        start_index_increment = nsteps\n",
    "\n",
    "    prediction_column = \"holt_winters\" + length_text + \"_nsteps_\" + str(nsteps)\n",
    "\n",
    "    ts_dummy[prediction_column] = np.nan\n",
    "    column_number = ts_dummy.columns.get_loc(prediction_column)\n",
    "    trend = model_params[0]\n",
    "    seasonal = model_params[1]\n",
    "    seasonal_periods = model_params[2]\n",
    "\n",
    "    latest_training_datapoint = ts_dummy[date_col].iloc[final_index]\n",
    "    loops_required = math.floor(1 + (len(ts_dummy) - final_posn) / nsteps)\n",
    "    loop = 0\n",
    "\n",
    "    while final_posn <= len(ts_dummy):\n",
    "\n",
    "        rolling_window = ts_dummy.iloc[start_index : final_index + 1]\n",
    "        latest_training_datapoint = ts_dummy[date_col].iloc[final_index]\n",
    "\n",
    "        model = ExponentialSmoothing(\n",
    "            rolling_window[series_col],\n",
    "            trend=trend,\n",
    "            seasonal=seasonal,\n",
    "            seasonal_periods=seasonal_periods,\n",
    "        )\n",
    "        fitted_model = model.fit()\n",
    "        prediction = fitted_model.forecast(nsteps)\n",
    "\n",
    "        for i in range(0, min(nsteps, len(ts_dummy) - final_posn)):\n",
    "            ts_dummy.iloc[final_index + i + 1, column_number] = prediction[\n",
    "                final_index + i + 1\n",
    "            ]\n",
    "\n",
    "        start_index = start_index + start_index_increment\n",
    "        final_index = final_index + nsteps\n",
    "        final_posn = final_index + 1\n",
    "\n",
    "        loop = loop + 1\n",
    "        clear_output()\n",
    "        print(str(round(100 * loop / loops_required)) + \" % done\")\n",
    "\n",
    "    forecast_column = prediction_column + \"_forecasts\"\n",
    "    first_forecast_date = ts_dummy[date_col].iloc[-1] + offset\n",
    "    forecasts = pd.DataFrame(\n",
    "        {\n",
    "            \"End date\": pd.date_range(\n",
    "                start=first_forecast_date, periods=nsteps, freq=freq\n",
    "            ),\n",
    "            forecast_column: np.nan,\n",
    "        }\n",
    "    )\n",
    "    for i in range(nsteps):\n",
    "        forecasts[forecast_column].iloc[i] = prediction.iloc[i]\n",
    "\n",
    "    return (ts_dummy, forecasts, prediction_column)"
   ]
  },
  {
   "cell_type": "code",
   "execution_count": 1,
   "id": "01fa8073",
   "metadata": {},
   "outputs": [
    {
     "name": "stdout",
     "output_type": "stream",
     "text": [
      "[NbConvertApp] Converting notebook holt_winters.ipynb to script\n",
      "[NbConvertApp] Writing 3237 bytes to holt_winters.py\n"
     ]
    }
   ],
   "source": [
    "# write all the above code to a py file but not this particular cell of code.\n",
    "\n",
    "!jupyter nbconvert --to script holt_winters.ipynb\n",
    "with open(\"holt_winters.py\", \"r\") as f:\n",
    "    lines = f.readlines()\n",
    "with open(\"holt_winters.py\", \"w\") as f:\n",
    "    for line in lines:\n",
    "        if \"nbconvert --to script\" in line:\n",
    "            break\n",
    "        else:\n",
    "            f.write(line)"
   ]
  },
  {
   "cell_type": "code",
   "execution_count": null,
   "id": "c46a82fd",
   "metadata": {},
   "outputs": [],
   "source": []
  }
 ],
 "metadata": {
  "kernelspec": {
   "display_name": "Python 3 (ipykernel)",
   "language": "python",
   "name": "python3"
  },
  "language_info": {
   "codemirror_mode": {
    "name": "ipython",
    "version": 3
   },
   "file_extension": ".py",
   "mimetype": "text/x-python",
   "name": "python",
   "nbconvert_exporter": "python",
   "pygments_lexer": "ipython3",
   "version": "3.9.12"
  }
 },
 "nbformat": 4,
 "nbformat_minor": 5
}
