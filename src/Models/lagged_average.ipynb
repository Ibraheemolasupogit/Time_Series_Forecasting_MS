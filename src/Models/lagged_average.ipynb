{
 "cells": [
  {
   "cell_type": "code",
   "execution_count": 4,
   "id": "5e9a1b5d",
   "metadata": {},
   "outputs": [],
   "source": [
    "import os, sys, importlib"
   ]
  },
  {
   "cell_type": "code",
   "execution_count": null,
   "id": "5d6b42f7-b8ee-4cf2-8d84-b77fd6db3965",
   "metadata": {},
   "outputs": [],
   "source": [
    "sys.path.append(\"../Functions\")"
   ]
  },
  {
   "cell_type": "code",
   "execution_count": null,
   "id": "6a1c4981-55b8-4f6a-90da-e9c4d204085a",
   "metadata": {},
   "outputs": [],
   "source": [
    "from preprocessing_functions import timeseries_type"
   ]
  },
  {
   "cell_type": "code",
   "execution_count": null,
   "id": "4c22aac9-ae4f-416f-8ecb-90367c5af5bd",
   "metadata": {},
   "outputs": [],
   "source": [
    "import numpy as np\n",
    "import math\n",
    "import pandas as pd\n",
    "from IPython.display import clear_output"
   ]
  },
  {
   "cell_type": "code",
   "execution_count": 5,
   "id": "d699d851",
   "metadata": {},
   "outputs": [],
   "source": [
    "def rolling_forecast_lagged_average(\n",
    "    time_series, window_end_date, lag, num_lags, nsteps\n",
    "):\n",
    "\n",
    "    \"\"\"\n",
    "    Takes a time series and computes forecasts on a rolling basis.\n",
    "\n",
    "    Forecasts are based on the average of the lagged values of the timeseries\n",
    "\n",
    "    INPUTS:\n",
    "    ----------------\n",
    "        time_series (pandas.core.frame.DataFrame) : A time series\n",
    "\n",
    "        window_end_date (string) : A date string of the form 'yyyy-mm-dd'. This gives the model the latets piece of data it may\n",
    "        use to make a forecast.\n",
    "\n",
    "        lag (int) : specifies the interval to use when looking back at historic values in the time series. For example, for\n",
    "        a daily time series setting lag = 7 would mean looking back at the value a week prior (i.e the same weekday).\n",
    "\n",
    "        num_lags (int) : specifies how many of the lagged values are averaged to make the forecast.\n",
    "\n",
    "        nsteps (int) : The number of steps out to forecast\n",
    "\n",
    "    RETURNS:\n",
    "    ----------------\n",
    "        (tuple): A tuple of the form (a, b, c)\n",
    "\n",
    "        a (pandas.core.frame.DataFrame) : The original time series now with an additional column of fitted values\n",
    "\n",
    "        b (pandas.core.frame.DataFrame) : A timeseries containing the final set of forecasts made\n",
    "\n",
    "        c (string) : A string which contains the title of the model. This includes some details of the set parameters\n",
    "    \"\"\"\n",
    "\n",
    "    ts_dummy = time_series.copy()\n",
    "    date_col = ts_dummy.columns.values.tolist()[0]\n",
    "    series_col = ts_dummy.columns.values.tolist()[1]\n",
    "    final_index = ts_dummy[ts_dummy[date_col] == window_end_date].index[0]\n",
    "    final_posn = final_index + 1\n",
    "\n",
    "    # deduce series type\n",
    "    seasonal_lag, offset, freq = timeseries_type(time_series)\n",
    "\n",
    "    prediction_column = \"num_lags_\" + str(num_lags) + \"_nsteps_\" + str(nsteps)\n",
    "    ts_dummy[prediction_column] = np.nan\n",
    "    column_number = ts_dummy.columns.get_loc(prediction_column)\n",
    "\n",
    "    latest_training_datapoint = ts_dummy[date_col].iloc[final_index]\n",
    "    loops_required = math.floor(1 + (len(ts_dummy) - final_posn) / nsteps)\n",
    "    loop = 0\n",
    "\n",
    "    prediction = pd.DataFrame(columns=[\"preds\"], index=range(0, nsteps))\n",
    "\n",
    "    while final_posn <= len(ts_dummy):\n",
    "\n",
    "        latest_training_datapoint = ts_dummy[date_col].iloc[final_index]\n",
    "\n",
    "        # make the forecasts\n",
    "        sum = 0\n",
    "        forecasts_made = 0\n",
    "        for j in range(0, nsteps):\n",
    "            for k in range(num_lags):\n",
    "                if (forecasts_made - (k + 1) * lag) < 0:\n",
    "                    sum = (\n",
    "                        sum\n",
    "                        + ts_dummy.iloc[\n",
    "                            (final_index + forecasts_made) - ((k + 1) * lag - 1), 1\n",
    "                        ]\n",
    "                    )\n",
    "                else:\n",
    "                    sum = (\n",
    "                        sum + prediction[\"preds\"].iloc[(forecasts_made) - (k + 1) * lag]\n",
    "                    )\n",
    "            average = sum / num_lags\n",
    "            prediction[\"preds\"].iloc[j] = average\n",
    "            sum = 0\n",
    "            forecasts_made = forecasts_made + 1\n",
    "\n",
    "        for i in range(0, min(nsteps, len(ts_dummy) - final_posn)):\n",
    "            ts_dummy.iloc[final_index + i + 1, column_number] = prediction[\n",
    "                \"preds\"\n",
    "            ].iloc[i]\n",
    "\n",
    "        final_index = final_index + nsteps\n",
    "        final_posn = final_index + 1\n",
    "\n",
    "        loop = loop + 1\n",
    "        clear_output()\n",
    "        print(str(round(100 * loop / loops_required)) + \" % done\")\n",
    "\n",
    "    forecast_column = prediction_column + \"_forecasts\"\n",
    "    first_forecast_date = ts_dummy[date_col].iloc[-1] + offset\n",
    "    forecasts = pd.DataFrame(\n",
    "        {\n",
    "            \"End date\": pd.date_range(\n",
    "                start=first_forecast_date, periods=nsteps, freq=freq\n",
    "            ),\n",
    "            forecast_column: np.nan,\n",
    "        }\n",
    "    )\n",
    "    for i in range(nsteps):\n",
    "        forecasts[forecast_column].iloc[i] = prediction[\"preds\"].iloc[i]\n",
    "\n",
    "    return (ts_dummy, forecasts, prediction_column)"
   ]
  },
  {
   "cell_type": "code",
   "execution_count": 1,
   "id": "0e13d499",
   "metadata": {},
   "outputs": [
    {
     "name": "stdout",
     "output_type": "stream",
     "text": [
      "[NbConvertApp] Converting notebook lagged_average.ipynb to script\n",
      "[NbConvertApp] Writing 3308 bytes to lagged_average.py\n"
     ]
    }
   ],
   "source": [
    "# write all the above code to a py file but not this particular cell of code.\n",
    "\n",
    "!jupyter nbconvert --to script lagged_average.ipynb\n",
    "with open(\"lagged_average.py\", \"r\") as f:\n",
    "    lines = f.readlines()\n",
    "with open(\"lagged_average.py\", \"w\") as f:\n",
    "    for line in lines:\n",
    "        if \"nbconvert --to script\" in line:\n",
    "            break\n",
    "        else:\n",
    "            f.write(line)"
   ]
  },
  {
   "cell_type": "code",
   "execution_count": null,
   "id": "76adad88",
   "metadata": {},
   "outputs": [],
   "source": []
  }
 ],
 "metadata": {
  "kernelspec": {
   "display_name": "Python 3 (ipykernel)",
   "language": "python",
   "name": "python3"
  },
  "language_info": {
   "codemirror_mode": {
    "name": "ipython",
    "version": 3
   },
   "file_extension": ".py",
   "mimetype": "text/x-python",
   "name": "python",
   "nbconvert_exporter": "python",
   "pygments_lexer": "ipython3",
   "version": "3.9.12"
  }
 },
 "nbformat": 4,
 "nbformat_minor": 5
}
