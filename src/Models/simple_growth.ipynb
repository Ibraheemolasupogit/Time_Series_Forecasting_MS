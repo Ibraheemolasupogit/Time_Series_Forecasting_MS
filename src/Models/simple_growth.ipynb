{
 "cells": [
  {
   "cell_type": "code",
   "execution_count": 4,
   "id": "5558782a",
   "metadata": {},
   "outputs": [],
   "source": [
    "import os, sys, importlib"
   ]
  },
  {
   "cell_type": "code",
   "execution_count": null,
   "id": "114a4caa-0354-4831-af0a-82394b300286",
   "metadata": {},
   "outputs": [],
   "source": [
    "sys.path.append(\"../Functions\")"
   ]
  },
  {
   "cell_type": "code",
   "execution_count": null,
   "id": "e62e9124-6a88-4353-9b64-332af5daa690",
   "metadata": {},
   "outputs": [],
   "source": [
    "from preprocessing_functions import timeseries_type"
   ]
  },
  {
   "cell_type": "code",
   "execution_count": null,
   "id": "13a701a3-fb5c-48cf-85a1-9fcdf639b25a",
   "metadata": {},
   "outputs": [],
   "source": [
    "import numpy as np\n",
    "import math\n",
    "import pandas as pd\n",
    "from IPython.display import clear_output"
   ]
  },
  {
   "cell_type": "code",
   "execution_count": 5,
   "id": "9149017d",
   "metadata": {},
   "outputs": [],
   "source": [
    "def rolling_forecast_LY_perc_inc(time_series, window_end_date, nsteps):\n",
    "\n",
    "    \"\"\"\n",
    "    Takes a time series and computes forecasts on a rolling basis.\n",
    "\n",
    "    Forecasts are based on a simple growth model which looks at the growth at the same time last year (LY) and applies it\n",
    "    to the current value of the time series.\n",
    "\n",
    "    INPUTS:\n",
    "    ----------------\n",
    "        time_series (pandas.core.frame.DataFrame) : A time series\n",
    "\n",
    "        window_end_date (string) : A date string of the form 'yyyy-mm-dd'. This gives the model the latets piece of data it may\n",
    "        use to make a forecast.\n",
    "\n",
    "        nsteps (int) : The number of steps out to forecast\n",
    "\n",
    "    RETURNS:\n",
    "    ----------------\n",
    "        (tuple): A tuple of the form (a, b, c)\n",
    "\n",
    "        a (pandas.core.frame.DataFrame) : The original time series now with an additional column of fitted values\n",
    "\n",
    "        b (pandas.core.frame.DataFrame) : A timeseries containing the final set of forecasts made\n",
    "\n",
    "        c (string) : A string which contains the title of the model. This includes some details of the set parameters\n",
    "    \"\"\"\n",
    "\n",
    "    ts_dummy = time_series.copy()\n",
    "    date_col = ts_dummy.columns.values.tolist()[0]\n",
    "    series_col = ts_dummy.columns.values.tolist()[1]\n",
    "    final_index = ts_dummy[ts_dummy[date_col] == window_end_date].index[0]\n",
    "    final_posn = final_index + 1\n",
    "\n",
    "    # deduce series type\n",
    "    seasonal_lag, offset, freq = timeseries_type(time_series)\n",
    "\n",
    "    prediction_column = \"LY_growth\" + \"_nsteps_\" + str(nsteps)\n",
    "    ts_dummy[prediction_column] = np.nan\n",
    "    column_number = ts_dummy.columns.get_loc(prediction_column)\n",
    "\n",
    "    latest_training_datapoint = ts_dummy[date_col].iloc[final_index]\n",
    "    loops_required = math.floor(1 + (len(ts_dummy) - final_posn) / nsteps)\n",
    "    loop = 0\n",
    "\n",
    "    prediction = pd.DataFrame(columns=[\"preds\"], index=range(0, nsteps))\n",
    "\n",
    "    while final_posn <= len(ts_dummy):\n",
    "\n",
    "        latest_training_datapoint = ts_dummy[date_col].iloc[final_index]\n",
    "\n",
    "        forecasts_made = 0\n",
    "        for j in range(0, nsteps):\n",
    "            if j == 0:\n",
    "                last_value = ts_dummy[series_col].iloc[final_index]\n",
    "            else:\n",
    "                last_value = prediction[\"preds\"].iloc[j - 1]\n",
    "            for k in [0, 1]:\n",
    "                if k == 0 and ((forecasts_made - seasonal_lag - k) < 0):\n",
    "                    growth_numerator = ts_dummy.iloc[\n",
    "                        (final_index + forecasts_made + 1) - seasonal_lag, 1\n",
    "                    ]\n",
    "                elif k == 0 and ((forecasts_made - seasonal_lag - k) >= 0):\n",
    "                    growth_numerator = prediction[\"preds\"].iloc[\n",
    "                        forecasts_made - seasonal_lag\n",
    "                    ]\n",
    "                elif k == 1 and ((forecasts_made - seasonal_lag - k) < 0):\n",
    "                    growth_denominator = ts_dummy.iloc[\n",
    "                        (final_index + forecasts_made + 1) - seasonal_lag - 1, 1\n",
    "                    ]\n",
    "                elif k == 1 and ((forecasts_made - seasonal_lag - k) >= 0):\n",
    "                    growth_denominator = prediction[\"preds\"].iloc[\n",
    "                        forecasts_made - seasonal_lag - 1\n",
    "                    ]\n",
    "\n",
    "            growth = growth_numerator / growth_denominator\n",
    "            prediction[\"preds\"].iloc[j] = growth * last_value\n",
    "            forecasts_made = forecasts_made + 1\n",
    "\n",
    "        for i in range(0, min(nsteps, len(ts_dummy) - final_posn)):\n",
    "            ts_dummy.iloc[final_index + i + 1, column_number] = prediction[\n",
    "                \"preds\"\n",
    "            ].iloc[i]\n",
    "\n",
    "        final_index = final_index + nsteps\n",
    "        final_posn = final_index + 1\n",
    "\n",
    "        loop = loop + 1\n",
    "        clear_output()\n",
    "        print(str(round(100 * loop / loops_required)) + \" % done\")\n",
    "\n",
    "    forecast_column = prediction_column + \"_forecasts\"\n",
    "    first_forecast_date = ts_dummy[date_col].iloc[-1] + offset\n",
    "    forecasts = pd.DataFrame(\n",
    "        {\n",
    "            \"End date\": pd.date_range(\n",
    "                start=first_forecast_date, periods=nsteps, freq=freq\n",
    "            ),\n",
    "            forecast_column: np.nan,\n",
    "        }\n",
    "    )\n",
    "    for i in range(nsteps):\n",
    "        forecasts[forecast_column].iloc[i] = prediction[\"preds\"].iloc[i]\n",
    "\n",
    "    return (ts_dummy, forecasts, prediction_column)"
   ]
  },
  {
   "cell_type": "code",
   "execution_count": 1,
   "id": "0d758a7a",
   "metadata": {},
   "outputs": [
    {
     "name": "stdout",
     "output_type": "stream",
     "text": [
      "[NbConvertApp] Converting notebook simple_growth.ipynb to script\n",
      "[NbConvertApp] Writing 3914 bytes to simple_growth.py\n"
     ]
    }
   ],
   "source": [
    "# write all the above code to a py file but not this particular cell of code.\n",
    "\n",
    "!jupyter nbconvert --to script simple_growth.ipynb\n",
    "with open(\"simple_growth.py\", \"r\") as f:\n",
    "    lines = f.readlines()\n",
    "with open(\"simple_growth.py\", \"w\") as f:\n",
    "    for line in lines:\n",
    "        if \"nbconvert --to script\" in line:\n",
    "            break\n",
    "        else:\n",
    "            f.write(line)"
   ]
  },
  {
   "cell_type": "code",
   "execution_count": null,
   "id": "8b03c3fc",
   "metadata": {},
   "outputs": [],
   "source": []
  }
 ],
 "metadata": {
  "kernelspec": {
   "display_name": "Python 3 (ipykernel)",
   "language": "python",
   "name": "python3"
  },
  "language_info": {
   "codemirror_mode": {
    "name": "ipython",
    "version": 3
   },
   "file_extension": ".py",
   "mimetype": "text/x-python",
   "name": "python",
   "nbconvert_exporter": "python",
   "pygments_lexer": "ipython3",
   "version": "3.9.12"
  }
 },
 "nbformat": 4,
 "nbformat_minor": 5
}
