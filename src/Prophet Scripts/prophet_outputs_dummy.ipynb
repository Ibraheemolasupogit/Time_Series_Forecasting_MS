{
 "cells": [
  {
   "cell_type": "code",
   "execution_count": 6,
   "id": "1a5d2513",
   "metadata": {},
   "outputs": [],
   "source": [
    "import os, sys, importlib"
   ]
  },
  {
   "cell_type": "code",
   "execution_count": null,
   "id": "4ebe6f73",
   "metadata": {},
   "outputs": [],
   "source": []
  },
  {
   "cell_type": "code",
   "execution_count": 7,
   "id": "9355d2c1-dbd0-497a-a71e-b2312d2bc674",
   "metadata": {},
   "outputs": [],
   "source": [
    "sys.path.append(\"../Functions\")"
   ]
  },
  {
   "cell_type": "code",
   "execution_count": 8,
   "id": "904fde81-2c03-48c4-a21f-d983f5761091",
   "metadata": {},
   "outputs": [],
   "source": [
    "sys.path.append(\"../Models\")"
   ]
  },
  {
   "cell_type": "code",
   "execution_count": 9,
   "id": "2bf98a86-fa8a-4a82-84c8-94ade877180a",
   "metadata": {},
   "outputs": [],
   "source": [
    "from preprocessing_functions import *\n",
    "from performance_functions import *\n",
    "from aggregate_functions import *"
   ]
  },
  {
   "cell_type": "code",
   "execution_count": 10,
   "id": "30e9a8e6-81c5-4eed-91e3-ee2a9063f839",
   "metadata": {},
   "outputs": [],
   "source": [
    "from facebook_prophet import rolling_prophet"
   ]
  },
  {
   "cell_type": "code",
   "execution_count": 11,
   "id": "b741a84f-781a-4c60-83ef-7f39138616b9",
   "metadata": {},
   "outputs": [],
   "source": [
    "import pickle\n",
    "import matplotlib.pyplot as plt"
   ]
  },
  {
   "cell_type": "code",
   "execution_count": 12,
   "id": "856b9286",
   "metadata": {},
   "outputs": [],
   "source": [
    "series_name = \"dummy_series\"\n",
    "data = \"dummy_data.csv\""
   ]
  },
  {
   "cell_type": "code",
   "execution_count": 13,
   "id": "e1a1b650",
   "metadata": {},
   "outputs": [],
   "source": [
    "app_data = read_file(data)"
   ]
  },
  {
   "cell_type": "code",
   "execution_count": 14,
   "id": "d7d682e9",
   "metadata": {},
   "outputs": [
    {
     "data": {
      "text/html": [
       "<div>\n",
       "<style scoped>\n",
       "    .dataframe tbody tr th:only-of-type {\n",
       "        vertical-align: middle;\n",
       "    }\n",
       "\n",
       "    .dataframe tbody tr th {\n",
       "        vertical-align: top;\n",
       "    }\n",
       "\n",
       "    .dataframe thead th {\n",
       "        text-align: right;\n",
       "    }\n",
       "</style>\n",
       "<table border=\"1\" class=\"dataframe\">\n",
       "  <thead>\n",
       "    <tr style=\"text-align: right;\">\n",
       "      <th></th>\n",
       "      <th>Daily</th>\n",
       "      <th>dummy_series</th>\n",
       "    </tr>\n",
       "  </thead>\n",
       "  <tbody>\n",
       "    <tr>\n",
       "      <th>94</th>\n",
       "      <td>2022-10-23</td>\n",
       "      <td>4810.990840</td>\n",
       "    </tr>\n",
       "    <tr>\n",
       "      <th>95</th>\n",
       "      <td>2022-10-30</td>\n",
       "      <td>4673.150682</td>\n",
       "    </tr>\n",
       "  </tbody>\n",
       "</table>\n",
       "</div>"
      ],
      "text/plain": [
       "        Daily  dummy_series\n",
       "94 2022-10-23   4810.990840\n",
       "95 2022-10-30   4673.150682"
      ]
     },
     "execution_count": 14,
     "metadata": {},
     "output_type": "execute_result"
    }
   ],
   "source": [
    "ts_data = preprocess(app_data, series_name)\n",
    "ts_data_weekly = resample(ts_data, \"W\")\n",
    "ts_data_weekly = ts_data_weekly.iloc[:-1]\n",
    "ts_data_weekly.tail(2)"
   ]
  },
  {
   "cell_type": "code",
   "execution_count": 15,
   "id": "8d745990",
   "metadata": {},
   "outputs": [],
   "source": [
    "weekly_measure_from = \"2022-03-27\"  #'2022-05-29'\n",
    "monthly_measure_from = \"2022-03-31\""
   ]
  },
  {
   "cell_type": "markdown",
   "id": "b017e472",
   "metadata": {},
   "source": [
    "#  Weekly Model"
   ]
  },
  {
   "cell_type": "code",
   "execution_count": 16,
   "id": "7c4b1286",
   "metadata": {},
   "outputs": [
    {
     "name": "stdout",
     "output_type": "stream",
     "text": [
      "100 % done\n"
     ]
    },
    {
     "name": "stderr",
     "output_type": "stream",
     "text": [
      "/Users/paul.carroll/Github/Forecasting_MS/src/Models/facebook_prophet.py:156: SettingWithCopyWarning: \n",
      "A value is trying to be set on a copy of a slice from a DataFrame\n",
      "\n",
      "See the caveats in the documentation: https://pandas.pydata.org/pandas-docs/stable/user_guide/indexing.html#returning-a-view-versus-a-copy\n",
      "  forecasts[forecast_column].iloc[i] = prediction.iloc[i, 0]\n",
      "/Users/paul.carroll/Github/Forecasting_MS/src/Models/facebook_prophet.py:171: SettingWithCopyWarning: \n",
      "A value is trying to be set on a copy of a slice from a DataFrame\n",
      "\n",
      "See the caveats in the documentation: https://pandas.pydata.org/pandas-docs/stable/user_guide/indexing.html#returning-a-view-versus-a-copy\n",
      "  CI[lower_CI_column].iloc[i] = prediction.iloc[i, 1]\n",
      "/Users/paul.carroll/Github/Forecasting_MS/src/Models/facebook_prophet.py:172: SettingWithCopyWarning: \n",
      "A value is trying to be set on a copy of a slice from a DataFrame\n",
      "\n",
      "See the caveats in the documentation: https://pandas.pydata.org/pandas-docs/stable/user_guide/indexing.html#returning-a-view-versus-a-copy\n",
      "  CI[upper_CI_column].iloc[i] = prediction.iloc[i, 2]\n"
     ]
    }
   ],
   "source": [
    "weekly_prophet_nsteps_1 = rolling_prophet(\n",
    "    ts_data_weekly, window_end_date=weekly_measure_from, nsteps=1, window_length=None\n",
    ")"
   ]
  },
  {
   "cell_type": "code",
   "execution_count": 17,
   "id": "02a69038",
   "metadata": {},
   "outputs": [
    {
     "data": {
      "text/html": [
       "<div>\n",
       "<style scoped>\n",
       "    .dataframe tbody tr th:only-of-type {\n",
       "        vertical-align: middle;\n",
       "    }\n",
       "\n",
       "    .dataframe tbody tr th {\n",
       "        vertical-align: top;\n",
       "    }\n",
       "\n",
       "    .dataframe thead th {\n",
       "        text-align: right;\n",
       "    }\n",
       "</style>\n",
       "<table border=\"1\" class=\"dataframe\">\n",
       "  <thead>\n",
       "    <tr style=\"text-align: right;\">\n",
       "      <th></th>\n",
       "      <th>model</th>\n",
       "      <th>mae</th>\n",
       "      <th>rmse</th>\n",
       "      <th>mape</th>\n",
       "    </tr>\n",
       "  </thead>\n",
       "  <tbody>\n",
       "    <tr>\n",
       "      <th>0</th>\n",
       "      <td>prophet_nsteps_1</td>\n",
       "      <td>78.370058</td>\n",
       "      <td>96.138446</td>\n",
       "      <td>0.017295</td>\n",
       "    </tr>\n",
       "  </tbody>\n",
       "</table>\n",
       "</div>"
      ],
      "text/plain": [
       "              model        mae       rmse      mape\n",
       "0  prophet_nsteps_1  78.370058  96.138446  0.017295"
      ]
     },
     "execution_count": 17,
     "metadata": {},
     "output_type": "execute_result"
    }
   ],
   "source": [
    "prophet_weekly_performance = performance_metrics(\n",
    "    weekly_prophet_nsteps_1[0], performance_lag=12\n",
    ")\n",
    "prophet_weekly_performance"
   ]
  },
  {
   "cell_type": "code",
   "execution_count": 18,
   "id": "541dce3c",
   "metadata": {},
   "outputs": [],
   "source": [
    "file_name = series_name + \"_weekly_prophet_nsteps_1\"\n",
    "outfile = open(file_name, \"wb\")\n",
    "pickle.dump(weekly_prophet_nsteps_1, outfile)\n",
    "outfile.close()"
   ]
  },
  {
   "cell_type": "code",
   "execution_count": 19,
   "id": "962bbd28",
   "metadata": {},
   "outputs": [
    {
     "data": {
      "image/png": "[encoded data removed]",
      "text/plain": [
       "<Figure size 1200x500 with 1 Axes>"
      ]
     },
     "metadata": {},
     "output_type": "display_data"
    }
   ],
   "source": [
    "# Have a look how these models would have performed historically\n",
    "\n",
    "plt.figure(figsize=(12, 5))\n",
    "\n",
    "ax = weekly_prophet_nsteps_1[0][series_name].plot(color=\"blue\")\n",
    "ax = weekly_prophet_nsteps_1[0][\"prophet_nsteps_1\"].plot(color=\"red\")\n",
    "\n",
    "plt.show()"
   ]
  },
  {
   "cell_type": "markdown",
   "id": "098a5467",
   "metadata": {},
   "source": [
    "# 4 week out performance gain with each new week"
   ]
  },
  {
   "cell_type": "code",
   "execution_count": 20,
   "id": "21b5458d",
   "metadata": {},
   "outputs": [
    {
     "name": "stdout",
     "output_type": "stream",
     "text": [
      "100 % done\n"
     ]
    },
    {
     "name": "stderr",
     "output_type": "stream",
     "text": [
      "/Users/paul.carroll/Github/Forecasting_MS/src/Models/facebook_prophet.py:156: SettingWithCopyWarning: \n",
      "A value is trying to be set on a copy of a slice from a DataFrame\n",
      "\n",
      "See the caveats in the documentation: https://pandas.pydata.org/pandas-docs/stable/user_guide/indexing.html#returning-a-view-versus-a-copy\n",
      "  forecasts[forecast_column].iloc[i] = prediction.iloc[i, 0]\n",
      "/Users/paul.carroll/Github/Forecasting_MS/src/Models/facebook_prophet.py:171: SettingWithCopyWarning: \n",
      "A value is trying to be set on a copy of a slice from a DataFrame\n",
      "\n",
      "See the caveats in the documentation: https://pandas.pydata.org/pandas-docs/stable/user_guide/indexing.html#returning-a-view-versus-a-copy\n",
      "  CI[lower_CI_column].iloc[i] = prediction.iloc[i, 1]\n",
      "/Users/paul.carroll/Github/Forecasting_MS/src/Models/facebook_prophet.py:172: SettingWithCopyWarning: \n",
      "A value is trying to be set on a copy of a slice from a DataFrame\n",
      "\n",
      "See the caveats in the documentation: https://pandas.pydata.org/pandas-docs/stable/user_guide/indexing.html#returning-a-view-versus-a-copy\n",
      "  CI[upper_CI_column].iloc[i] = prediction.iloc[i, 2]\n"
     ]
    }
   ],
   "source": [
    "#%%capture\n",
    "weekly_prophet_nsteps_1 = rolling_prophet(\n",
    "    ts_data_weekly, window_end_date=weekly_measure_from, nsteps=1, window_length=None\n",
    ")\n",
    "weekly_prophet_nsteps_2 = rolling_prophet(\n",
    "    ts_data_weekly, window_end_date=weekly_measure_from, nsteps=2, window_length=None\n",
    ")\n",
    "weekly_prophet_nsteps_3 = rolling_prophet(\n",
    "    ts_data_weekly, window_end_date=weekly_measure_from, nsteps=3, window_length=None\n",
    ")\n",
    "weekly_prophet_nsteps_4 = rolling_prophet(\n",
    "    ts_data_weekly, window_end_date=weekly_measure_from, nsteps=4, window_length=None\n",
    ")"
   ]
  },
  {
   "cell_type": "code",
   "execution_count": 21,
   "id": "1d330235",
   "metadata": {},
   "outputs": [],
   "source": [
    "#%%capture\n",
    "weekly_prophet_out_4_nsteps_i = []\n",
    "\n",
    "weekly_prophet_out_4_nsteps_1 = n_weeks_forecast(\n",
    "    weekly_prophet_nsteps_1[0], nsteps=1, n_week_sum=4\n",
    ")\n",
    "weekly_prophet_out_4_nsteps_i.append(weekly_prophet_out_4_nsteps_1)\n",
    "\n",
    "weekly_prophet_out_4_nsteps_2 = n_weeks_forecast(\n",
    "    weekly_prophet_nsteps_2[0], nsteps=2, n_week_sum=4\n",
    ")\n",
    "weekly_prophet_out_4_nsteps_i.append(weekly_prophet_out_4_nsteps_2)\n",
    "\n",
    "weekly_prophet_out_4_nsteps_3 = n_weeks_forecast(\n",
    "    weekly_prophet_nsteps_3[0], nsteps=3, n_week_sum=4\n",
    ")\n",
    "weekly_prophet_out_4_nsteps_i.append(weekly_prophet_out_4_nsteps_3)\n",
    "\n",
    "weekly_prophet_out_4_nsteps_4 = n_weeks_forecast(\n",
    "    weekly_prophet_nsteps_4[0], nsteps=4, n_week_sum=4\n",
    ")\n",
    "weekly_prophet_out_4_nsteps_i.append(weekly_prophet_out_4_nsteps_4)"
   ]
  },
  {
   "cell_type": "code",
   "execution_count": 22,
   "id": "04b66e99",
   "metadata": {},
   "outputs": [],
   "source": [
    "file_name = series_name + \"_weekly_prophet_out_4_nsteps_i\"\n",
    "outfile = open(file_name, \"wb\")\n",
    "pickle.dump(weekly_prophet_out_4_nsteps_i, outfile)\n",
    "outfile.close()"
   ]
  },
  {
   "cell_type": "code",
   "execution_count": 23,
   "id": "f949cf3d",
   "metadata": {},
   "outputs": [],
   "source": [
    "performance_dfs = []\n",
    "\n",
    "performance_df_out_4_nsteps_1 = performance_metrics(\n",
    "    weekly_prophet_out_4_nsteps_1, performance_lag=12\n",
    ")\n",
    "performance_dfs.append(performance_df_out_4_nsteps_1)\n",
    "\n",
    "performance_df_out_4_nsteps_2 = performance_metrics(\n",
    "    weekly_prophet_out_4_nsteps_2, performance_lag=12\n",
    ")\n",
    "performance_dfs.append(performance_df_out_4_nsteps_2)\n",
    "\n",
    "performance_df_out_4_nsteps_3 = performance_metrics(\n",
    "    weekly_prophet_out_4_nsteps_3, performance_lag=12\n",
    ")\n",
    "performance_dfs.append(performance_df_out_4_nsteps_3)\n",
    "\n",
    "performance_df_out_4_nsteps_4 = performance_metrics(\n",
    "    weekly_prophet_out_4_nsteps_4, performance_lag=12\n",
    ")\n",
    "performance_dfs.append(performance_df_out_4_nsteps_4)"
   ]
  },
  {
   "cell_type": "code",
   "execution_count": 24,
   "id": "e4190c67",
   "metadata": {},
   "outputs": [
    {
     "data": {
      "text/html": [
       "<div>\n",
       "<style scoped>\n",
       "    .dataframe tbody tr th:only-of-type {\n",
       "        vertical-align: middle;\n",
       "    }\n",
       "\n",
       "    .dataframe tbody tr th {\n",
       "        vertical-align: top;\n",
       "    }\n",
       "\n",
       "    .dataframe thead th {\n",
       "        text-align: right;\n",
       "    }\n",
       "</style>\n",
       "<table border=\"1\" class=\"dataframe\">\n",
       "  <thead>\n",
       "    <tr style=\"text-align: right;\">\n",
       "      <th></th>\n",
       "      <th>model</th>\n",
       "      <th>mae</th>\n",
       "      <th>rmse</th>\n",
       "      <th>mape</th>\n",
       "    </tr>\n",
       "  </thead>\n",
       "  <tbody>\n",
       "    <tr>\n",
       "      <th>0</th>\n",
       "      <td>prophet_nsteps_1</td>\n",
       "      <td>78.370058</td>\n",
       "      <td>96.138446</td>\n",
       "      <td>0.004324</td>\n",
       "    </tr>\n",
       "    <tr>\n",
       "      <th>1</th>\n",
       "      <td>prophet_nsteps_2</td>\n",
       "      <td>148.259731</td>\n",
       "      <td>180.650555</td>\n",
       "      <td>0.007763</td>\n",
       "    </tr>\n",
       "    <tr>\n",
       "      <th>2</th>\n",
       "      <td>prophet_nsteps_3</td>\n",
       "      <td>151.552091</td>\n",
       "      <td>198.266852</td>\n",
       "      <td>0.007992</td>\n",
       "    </tr>\n",
       "    <tr>\n",
       "      <th>3</th>\n",
       "      <td>prophet_nsteps_4</td>\n",
       "      <td>120.933938</td>\n",
       "      <td>142.920331</td>\n",
       "      <td>0.006422</td>\n",
       "    </tr>\n",
       "  </tbody>\n",
       "</table>\n",
       "</div>"
      ],
      "text/plain": [
       "              model         mae        rmse      mape\n",
       "0  prophet_nsteps_1   78.370058   96.138446  0.004324\n",
       "1  prophet_nsteps_2  148.259731  180.650555  0.007763\n",
       "2  prophet_nsteps_3  151.552091  198.266852  0.007992\n",
       "3  prophet_nsteps_4  120.933938  142.920331  0.006422"
      ]
     },
     "execution_count": 24,
     "metadata": {},
     "output_type": "execute_result"
    }
   ],
   "source": [
    "prophet_performance_df = pd.DataFrame()\n",
    "for df in performance_dfs:\n",
    "    prophet_performance_df = pd.concat([prophet_performance_df, df], axis=0)\n",
    "prophet_performance_df = prophet_performance_df.reset_index().drop(\"index\", axis=1)\n",
    "prophet_performance_df"
   ]
  },
  {
   "cell_type": "markdown",
   "id": "3a404528",
   "metadata": {},
   "source": [
    "# What's the 1 month out forecast error?"
   ]
  },
  {
   "cell_type": "code",
   "execution_count": 25,
   "id": "3685a1fe",
   "metadata": {},
   "outputs": [
    {
     "name": "stdout",
     "output_type": "stream",
     "text": [
      "100 % done\n"
     ]
    },
    {
     "name": "stderr",
     "output_type": "stream",
     "text": [
      "/Users/paul.carroll/Github/Forecasting_MS/src/Models/facebook_prophet.py:156: SettingWithCopyWarning: \n",
      "A value is trying to be set on a copy of a slice from a DataFrame\n",
      "\n",
      "See the caveats in the documentation: https://pandas.pydata.org/pandas-docs/stable/user_guide/indexing.html#returning-a-view-versus-a-copy\n",
      "  forecasts[forecast_column].iloc[i] = prediction.iloc[i, 0]\n",
      "/Users/paul.carroll/Github/Forecasting_MS/src/Models/facebook_prophet.py:171: SettingWithCopyWarning: \n",
      "A value is trying to be set on a copy of a slice from a DataFrame\n",
      "\n",
      "See the caveats in the documentation: https://pandas.pydata.org/pandas-docs/stable/user_guide/indexing.html#returning-a-view-versus-a-copy\n",
      "  CI[lower_CI_column].iloc[i] = prediction.iloc[i, 1]\n",
      "/Users/paul.carroll/Github/Forecasting_MS/src/Models/facebook_prophet.py:172: SettingWithCopyWarning: \n",
      "A value is trying to be set on a copy of a slice from a DataFrame\n",
      "\n",
      "See the caveats in the documentation: https://pandas.pydata.org/pandas-docs/stable/user_guide/indexing.html#returning-a-view-versus-a-copy\n",
      "  CI[upper_CI_column].iloc[i] = prediction.iloc[i, 2]\n"
     ]
    }
   ],
   "source": [
    "weekly_prophet_nsteps_4 = rolling_prophet(\n",
    "    ts_data_weekly, window_end_date=weekly_measure_from, nsteps=4, window_length=None\n",
    ")"
   ]
  },
  {
   "cell_type": "code",
   "execution_count": 58,
   "id": "c9a36e37",
   "metadata": {},
   "outputs": [
    {
     "name": "stderr",
     "output_type": "stream",
     "text": [
      "/Users/administrator/Documents/Milans_Forecasting_Repo/src/Prophet Scripts/../Functions/aggregate_functions.py:35: FutureWarning: The default value of numeric_only in DataFrameGroupBy.sum is deprecated. In a future version, numeric_only will default to False. Either specify numeric_only or select only columns which should be valid for the function.\n",
      "  dummy_data = dummy_data.groupby(\n"
     ]
    }
   ],
   "source": [
    "distr = weekly_distribution(app_data, series_name)"
   ]
  },
  {
   "cell_type": "code",
   "execution_count": 59,
   "id": "88fe5199",
   "metadata": {},
   "outputs": [],
   "source": [
    "start = weekly_prophet_nsteps_4[0].iloc[:, 2].first_valid_index()\n",
    "end = len(weekly_prophet_nsteps_4[0])\n",
    "weekly_prophet_nsteps_4_trimmed = (\n",
    "    weekly_prophet_nsteps_4[0].iloc[start:end].drop(columns=series_name, axis=1)\n",
    ")\n",
    "monthly_forecasts = weekly_to_monthly_summary(weekly_prophet_nsteps_4_trimmed, distr)"
   ]
  },
  {
   "cell_type": "code",
   "execution_count": 60,
   "id": "f40a91b0",
   "metadata": {},
   "outputs": [
    {
     "data": {
      "text/html": [
       "<div>\n",
       "<style scoped>\n",
       "    .dataframe tbody tr th:only-of-type {\n",
       "        vertical-align: middle;\n",
       "    }\n",
       "\n",
       "    .dataframe tbody tr th {\n",
       "        vertical-align: top;\n",
       "    }\n",
       "\n",
       "    .dataframe thead th {\n",
       "        text-align: right;\n",
       "    }\n",
       "</style>\n",
       "<table border=\"1\" class=\"dataframe\">\n",
       "  <thead>\n",
       "    <tr style=\"text-align: right;\">\n",
       "      <th></th>\n",
       "      <th>Daily</th>\n",
       "      <th>dummy_series</th>\n",
       "      <th>prophet_nsteps_4</th>\n",
       "      <th>perc error</th>\n",
       "      <th>abs error</th>\n",
       "      <th>sq error</th>\n",
       "    </tr>\n",
       "  </thead>\n",
       "  <tbody>\n",
       "    <tr>\n",
       "      <th>0</th>\n",
       "      <td>2022-04-30</td>\n",
       "      <td>21504.618775</td>\n",
       "      <td>21371.012945</td>\n",
       "      <td>0.006213</td>\n",
       "      <td>133.605829</td>\n",
       "      <td>1.785052e+04</td>\n",
       "    </tr>\n",
       "    <tr>\n",
       "      <th>1</th>\n",
       "      <td>2022-05-31</td>\n",
       "      <td>22746.782656</td>\n",
       "      <td>22782.729569</td>\n",
       "      <td>0.001580</td>\n",
       "      <td>35.946912</td>\n",
       "      <td>1.292181e+03</td>\n",
       "    </tr>\n",
       "    <tr>\n",
       "      <th>2</th>\n",
       "      <td>2022-06-30</td>\n",
       "      <td>21063.181391</td>\n",
       "      <td>21263.129908</td>\n",
       "      <td>0.009493</td>\n",
       "      <td>199.948517</td>\n",
       "      <td>3.997941e+04</td>\n",
       "    </tr>\n",
       "    <tr>\n",
       "      <th>3</th>\n",
       "      <td>2022-07-31</td>\n",
       "      <td>20492.983754</td>\n",
       "      <td>19961.136301</td>\n",
       "      <td>0.025953</td>\n",
       "      <td>531.847453</td>\n",
       "      <td>2.828617e+05</td>\n",
       "    </tr>\n",
       "    <tr>\n",
       "      <th>4</th>\n",
       "      <td>2022-08-31</td>\n",
       "      <td>20261.523462</td>\n",
       "      <td>20421.661577</td>\n",
       "      <td>0.007904</td>\n",
       "      <td>160.138115</td>\n",
       "      <td>2.564422e+04</td>\n",
       "    </tr>\n",
       "    <tr>\n",
       "      <th>5</th>\n",
       "      <td>2022-09-30</td>\n",
       "      <td>19026.182925</td>\n",
       "      <td>18973.356709</td>\n",
       "      <td>0.002777</td>\n",
       "      <td>52.826216</td>\n",
       "      <td>2.790609e+03</td>\n",
       "    </tr>\n",
       "    <tr>\n",
       "      <th>6</th>\n",
       "      <td>2022-10-31</td>\n",
       "      <td>20635.648092</td>\n",
       "      <td>23133.131834</td>\n",
       "      <td>0.121028</td>\n",
       "      <td>2497.483742</td>\n",
       "      <td>6.237425e+06</td>\n",
       "    </tr>\n",
       "  </tbody>\n",
       "</table>\n",
       "</div>"
      ],
      "text/plain": [
       "       Daily  dummy_series  prophet_nsteps_4  perc error    abs error  \\\n",
       "0 2022-04-30  21504.618775      21371.012945    0.006213   133.605829   \n",
       "1 2022-05-31  22746.782656      22782.729569    0.001580    35.946912   \n",
       "2 2022-06-30  21063.181391      21263.129908    0.009493   199.948517   \n",
       "3 2022-07-31  20492.983754      19961.136301    0.025953   531.847453   \n",
       "4 2022-08-31  20261.523462      20421.661577    0.007904   160.138115   \n",
       "5 2022-09-30  19026.182925      18973.356709    0.002777    52.826216   \n",
       "6 2022-10-31  20635.648092      23133.131834    0.121028  2497.483742   \n",
       "\n",
       "       sq error  \n",
       "0  1.785052e+04  \n",
       "1  1.292181e+03  \n",
       "2  3.997941e+04  \n",
       "3  2.828617e+05  \n",
       "4  2.564422e+04  \n",
       "5  2.790609e+03  \n",
       "6  6.237425e+06  "
      ]
     },
     "execution_count": 60,
     "metadata": {},
     "output_type": "execute_result"
    }
   ],
   "source": [
    "monthly_prophet_forecasts_df = resample(preprocess(app_data, series_name), \"M\").merge(\n",
    "    monthly_forecasts, how=\"inner\"\n",
    ")\n",
    "pm_prophet = performance_metrics(\n",
    "    monthly_prophet_forecasts_df, performance_lag=40, summarise=False\n",
    ")\n",
    "pm_prophet"
   ]
  },
  {
   "cell_type": "code",
   "execution_count": 61,
   "id": "77b0fc68",
   "metadata": {},
   "outputs": [],
   "source": [
    "file_name = series_name + \"_monthly_prophet_forecasts\"\n",
    "outfile = open(file_name, \"wb\")\n",
    "pickle.dump(pm_prophet, outfile)\n",
    "outfile.close()"
   ]
  },
  {
   "cell_type": "markdown",
   "id": "8e48e415",
   "metadata": {},
   "source": [
    "# What's the 3 month out forecast error?"
   ]
  },
  {
   "cell_type": "code",
   "execution_count": 62,
   "id": "3bf93be4",
   "metadata": {},
   "outputs": [
    {
     "name": "stdout",
     "output_type": "stream",
     "text": [
      "100 % done\n"
     ]
    },
    {
     "name": "stderr",
     "output_type": "stream",
     "text": [
      "/Users/administrator/Documents/Milans_Forecasting_Repo/src/Prophet Scripts/../Models/facebook_prophet.py:156: SettingWithCopyWarning: \n",
      "A value is trying to be set on a copy of a slice from a DataFrame\n",
      "\n",
      "See the caveats in the documentation: https://pandas.pydata.org/pandas-docs/stable/user_guide/indexing.html#returning-a-view-versus-a-copy\n",
      "  forecasts[forecast_column].iloc[i] = prediction.iloc[i, 0]\n",
      "/Users/administrator/Documents/Milans_Forecasting_Repo/src/Prophet Scripts/../Models/facebook_prophet.py:171: SettingWithCopyWarning: \n",
      "A value is trying to be set on a copy of a slice from a DataFrame\n",
      "\n",
      "See the caveats in the documentation: https://pandas.pydata.org/pandas-docs/stable/user_guide/indexing.html#returning-a-view-versus-a-copy\n",
      "  CI[lower_CI_column].iloc[i] = prediction.iloc[i, 1]\n",
      "/Users/administrator/Documents/Milans_Forecasting_Repo/src/Prophet Scripts/../Models/facebook_prophet.py:172: SettingWithCopyWarning: \n",
      "A value is trying to be set on a copy of a slice from a DataFrame\n",
      "\n",
      "See the caveats in the documentation: https://pandas.pydata.org/pandas-docs/stable/user_guide/indexing.html#returning-a-view-versus-a-copy\n",
      "  CI[upper_CI_column].iloc[i] = prediction.iloc[i, 2]\n"
     ]
    }
   ],
   "source": [
    "weekly_prophet_nsteps_12 = rolling_prophet(\n",
    "    ts_data_weekly, window_end_date=weekly_measure_from, nsteps=12, window_length=None\n",
    ")"
   ]
  },
  {
   "cell_type": "code",
   "execution_count": 63,
   "id": "2f5e6744",
   "metadata": {},
   "outputs": [
    {
     "name": "stderr",
     "output_type": "stream",
     "text": [
      "/Users/administrator/Documents/Milans_Forecasting_Repo/src/Prophet Scripts/../Functions/aggregate_functions.py:35: FutureWarning: The default value of numeric_only in DataFrameGroupBy.sum is deprecated. In a future version, numeric_only will default to False. Either specify numeric_only or select only columns which should be valid for the function.\n",
      "  dummy_data = dummy_data.groupby(\n"
     ]
    }
   ],
   "source": [
    "distr = weekly_distribution(app_data, series_name)"
   ]
  },
  {
   "cell_type": "code",
   "execution_count": 64,
   "id": "01f7846e",
   "metadata": {},
   "outputs": [],
   "source": [
    "start = weekly_prophet_nsteps_12[0].iloc[:, 2].first_valid_index()\n",
    "end = len(weekly_prophet_nsteps_12[0])\n",
    "weekly_prophet_nsteps_12_trimmed = (\n",
    "    weekly_prophet_nsteps_12[0].iloc[start:end].drop(columns=series_name, axis=1)\n",
    ")\n",
    "tri_monthly_forecasts = weekly_to_monthly_summary(\n",
    "    weekly_prophet_nsteps_12_trimmed, distr\n",
    ")"
   ]
  },
  {
   "cell_type": "code",
   "execution_count": 65,
   "id": "549e69e1",
   "metadata": {},
   "outputs": [
    {
     "data": {
      "text/html": [
       "<div>\n",
       "<style scoped>\n",
       "    .dataframe tbody tr th:only-of-type {\n",
       "        vertical-align: middle;\n",
       "    }\n",
       "\n",
       "    .dataframe tbody tr th {\n",
       "        vertical-align: top;\n",
       "    }\n",
       "\n",
       "    .dataframe thead th {\n",
       "        text-align: right;\n",
       "    }\n",
       "</style>\n",
       "<table border=\"1\" class=\"dataframe\">\n",
       "  <thead>\n",
       "    <tr style=\"text-align: right;\">\n",
       "      <th></th>\n",
       "      <th>Daily</th>\n",
       "      <th>dummy_series</th>\n",
       "      <th>prophet_nsteps_12</th>\n",
       "      <th>perc error</th>\n",
       "      <th>abs error</th>\n",
       "      <th>sq error</th>\n",
       "    </tr>\n",
       "  </thead>\n",
       "  <tbody>\n",
       "    <tr>\n",
       "      <th>0</th>\n",
       "      <td>2022-04-30</td>\n",
       "      <td>21504.618775</td>\n",
       "      <td>21338.615870</td>\n",
       "      <td>0.007719</td>\n",
       "      <td>166.002904</td>\n",
       "      <td>2.755696e+04</td>\n",
       "    </tr>\n",
       "    <tr>\n",
       "      <th>1</th>\n",
       "      <td>2022-05-31</td>\n",
       "      <td>22746.782656</td>\n",
       "      <td>22804.614561</td>\n",
       "      <td>0.002542</td>\n",
       "      <td>57.831905</td>\n",
       "      <td>3.344529e+03</td>\n",
       "    </tr>\n",
       "    <tr>\n",
       "      <th>2</th>\n",
       "      <td>2022-06-30</td>\n",
       "      <td>21063.181391</td>\n",
       "      <td>21245.102442</td>\n",
       "      <td>0.008637</td>\n",
       "      <td>181.921052</td>\n",
       "      <td>3.309527e+04</td>\n",
       "    </tr>\n",
       "    <tr>\n",
       "      <th>3</th>\n",
       "      <td>2022-07-31</td>\n",
       "      <td>20492.983754</td>\n",
       "      <td>19848.008656</td>\n",
       "      <td>0.031473</td>\n",
       "      <td>644.975098</td>\n",
       "      <td>4.159929e+05</td>\n",
       "    </tr>\n",
       "    <tr>\n",
       "      <th>4</th>\n",
       "      <td>2022-08-31</td>\n",
       "      <td>20261.523462</td>\n",
       "      <td>20353.502984</td>\n",
       "      <td>0.004540</td>\n",
       "      <td>91.979522</td>\n",
       "      <td>8.460233e+03</td>\n",
       "    </tr>\n",
       "    <tr>\n",
       "      <th>5</th>\n",
       "      <td>2022-09-30</td>\n",
       "      <td>19026.182925</td>\n",
       "      <td>18948.304163</td>\n",
       "      <td>0.004093</td>\n",
       "      <td>77.878762</td>\n",
       "      <td>6.065102e+03</td>\n",
       "    </tr>\n",
       "    <tr>\n",
       "      <th>6</th>\n",
       "      <td>2022-10-31</td>\n",
       "      <td>20635.648092</td>\n",
       "      <td>23141.141807</td>\n",
       "      <td>0.121416</td>\n",
       "      <td>2505.493715</td>\n",
       "      <td>6.277499e+06</td>\n",
       "    </tr>\n",
       "  </tbody>\n",
       "</table>\n",
       "</div>"
      ],
      "text/plain": [
       "       Daily  dummy_series  prophet_nsteps_12  perc error    abs error  \\\n",
       "0 2022-04-30  21504.618775       21338.615870    0.007719   166.002904   \n",
       "1 2022-05-31  22746.782656       22804.614561    0.002542    57.831905   \n",
       "2 2022-06-30  21063.181391       21245.102442    0.008637   181.921052   \n",
       "3 2022-07-31  20492.983754       19848.008656    0.031473   644.975098   \n",
       "4 2022-08-31  20261.523462       20353.502984    0.004540    91.979522   \n",
       "5 2022-09-30  19026.182925       18948.304163    0.004093    77.878762   \n",
       "6 2022-10-31  20635.648092       23141.141807    0.121416  2505.493715   \n",
       "\n",
       "       sq error  \n",
       "0  2.755696e+04  \n",
       "1  3.344529e+03  \n",
       "2  3.309527e+04  \n",
       "3  4.159929e+05  \n",
       "4  8.460233e+03  \n",
       "5  6.065102e+03  \n",
       "6  6.277499e+06  "
      ]
     },
     "execution_count": 65,
     "metadata": {},
     "output_type": "execute_result"
    }
   ],
   "source": [
    "monthly_prophet_forecasts_df = resample(preprocess(app_data, series_name), \"M\").merge(\n",
    "    tri_monthly_forecasts, how=\"inner\"\n",
    ")\n",
    "pm_prophet_3 = performance_metrics(\n",
    "    monthly_prophet_forecasts_df, performance_lag=40, summarise=False\n",
    ")\n",
    "pm_prophet_3"
   ]
  },
  {
   "cell_type": "code",
   "execution_count": 66,
   "id": "72252057",
   "metadata": {},
   "outputs": [],
   "source": [
    "file_name = series_name + \"_3_monthly_prophet_forecasts\"\n",
    "outfile = open(file_name, \"wb\")\n",
    "pickle.dump(pm_prophet_3, outfile)\n",
    "outfile.close()"
   ]
  },
  {
   "cell_type": "code",
   "execution_count": 68,
   "id": "c261d072",
   "metadata": {},
   "outputs": [
    {
     "name": "stdout",
     "output_type": "stream",
     "text": [
      "[NbConvertApp] Converting notebook prophet_outputs_dummy.ipynb to script\n",
      "[NbConvertApp] Writing 6379 bytes to prophet_outputs_dummy.py\n"
     ]
    }
   ],
   "source": [
    "!jupyter nbconvert --to script prophet_outputs_dummy.ipynb\n",
    "with open(\"prophet_outputs_dummy.py\", \"r\") as f:\n",
    "    lines = f.readlines()\n",
    "with open(\"prophet_outputs_dummy.py\", \"w\") as f:\n",
    "    for line in lines:\n",
    "        if \"nbconvert --to script\" in line:\n",
    "            break\n",
    "        else:\n",
    "            f.write(line)"
   ]
  },
  {
   "cell_type": "code",
   "execution_count": null,
   "id": "00f17193-befb-4060-b4a5-0f71047507ff",
   "metadata": {},
   "outputs": [],
   "source": []
  },
  {
   "cell_type": "code",
   "execution_count": null,
   "id": "145fc3c7-b014-4012-a8cb-1d6a35088f5b",
   "metadata": {},
   "outputs": [],
   "source": []
  },
  {
   "cell_type": "code",
   "execution_count": null,
   "id": "feebda3b-7267-42c2-a3dc-5ba48bbe85cd",
   "metadata": {},
   "outputs": [],
   "source": []
  },
  {
   "cell_type": "code",
   "execution_count": null,
   "id": "4e21df5e-7fff-448c-be54-2d792c6ee8a2",
   "metadata": {},
   "outputs": [],
   "source": []
  }
 ],
 "metadata": {
  "kernelspec": {
   "display_name": "venv",
   "language": "python",
   "name": "python3"
  },
  "language_info": {
   "codemirror_mode": {
    "name": "ipython",
    "version": 3
   },
   "file_extension": ".py",
   "mimetype": "text/x-python",
   "name": "python",
   "nbconvert_exporter": "python",
   "pygments_lexer": "ipython3",
   "version": "3.8.13"
  },
  "vscode": {
   "interpreter": {
    "hash": "cbc6a8acedfa452443f0fd71f928bb1b4d2f80aea42ae722665739340817674a"
   }
  }
 },
 "nbformat": 4,
 "nbformat_minor": 5
}
